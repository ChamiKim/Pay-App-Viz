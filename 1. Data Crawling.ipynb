{
 "cells": [
  {
   "cell_type": "markdown",
   "metadata": {},
   "source": [
    "# 라이브러리 임포트"
   ]
  },
  {
   "cell_type": "code",
   "execution_count": 15,
   "metadata": {},
   "outputs": [],
   "source": [
    "from bs4 import BeautifulSoup as bs\n",
    "from webdriver_manager.chrome import ChromeDriverManager\n",
    "\n",
    "from selenium import webdriver\n",
    "\n",
    "from tqdm import tqdm\n",
    "from app_store_scraper import AppStore\n",
    "\n",
    "import time\n",
    "import pandas as pd\n",
    "import numpy as np\n",
    "import random\n"
   ]
  },
  {
   "cell_type": "markdown",
   "metadata": {},
   "source": [
    "## PlayStore 리뷰 수집"
   ]
  },
  {
   "cell_type": "code",
   "execution_count": null,
   "metadata": {},
   "outputs": [],
   "source": []
  },
  {
   "cell_type": "code",
   "execution_count": null,
   "metadata": {},
   "outputs": [],
   "source": []
  },
  {
   "cell_type": "code",
   "execution_count": null,
   "metadata": {},
   "outputs": [],
   "source": []
  },
  {
   "cell_type": "markdown",
   "metadata": {},
   "source": [
    "## AppStore 리뷰 수집"
   ]
  },
  {
   "cell_type": "code",
   "execution_count": 16,
   "metadata": {},
   "outputs": [],
   "source": [
    "def Extract_reviews(app_name:str, app_id:int): \n",
    "  pay = AppStore(country='kr', app_name=app_name, app_id=app_id)\n",
    "  pay.review()\n",
    "\n",
    "  pay_reviews = pd.DataFrame(pay.reviews).sort_values('date', ascending=False).reset_index(drop=True)\n",
    "  pay_reviews['pay'] = app_name\n",
    "  return pay_reviews"
   ]
  },
  {
   "cell_type": "code",
   "execution_count": 20,
   "metadata": {},
   "outputs": [
    {
     "name": "stderr",
     "output_type": "stream",
     "text": [
      "  0%|          | 0/3 [00:00<?, ?it/s]2025-01-26 15:59:37,955 [INFO] Base - Initialised: AppStore('kr', 'kakaopay', 1464496236)\n",
      "2025-01-26 15:59:37,955 [INFO] Base - Ready to fetch reviews from: https://apps.apple.com/kr/app/kakaopay/id1464496236\n",
      "2025-01-26 15:59:43,620 [INFO] Base - [id:1464496236] Fetched 240 reviews (240 fetched in total)\n",
      "2025-01-26 15:59:49,448 [INFO] Base - [id:1464496236] Fetched 480 reviews (480 fetched in total)\n",
      "2025-01-26 15:59:55,398 [INFO] Base - [id:1464496236] Fetched 700 reviews (700 fetched in total)\n",
      "2025-01-26 16:00:00,930 [INFO] Base - [id:1464496236] Fetched 900 reviews (900 fetched in total)\n",
      "2025-01-26 16:00:06,409 [INFO] Base - [id:1464496236] Fetched 1060 reviews (1060 fetched in total)\n",
      "2025-01-26 16:00:12,064 [INFO] Base - [id:1464496236] Fetched 1320 reviews (1320 fetched in total)\n",
      "2025-01-26 16:00:17,504 [INFO] Base - [id:1464496236] Fetched 1544 reviews (1544 fetched in total)\n",
      " 33%|███▎      | 1/3 [00:40<01:20, 40.15s/it]2025-01-26 16:00:19,506 [INFO] Base - Initialised: AppStore('kr', 'naverpay', 1554807824)\n",
      "2025-01-26 16:00:19,507 [INFO] Base - Ready to fetch reviews from: https://apps.apple.com/kr/app/naverpay/id1554807824\n",
      "2025-01-26 16:00:24,531 [INFO] Base - [id:1554807824] Fetched 300 reviews (300 fetched in total)\n",
      "2025-01-26 16:00:29,879 [INFO] Base - [id:1554807824] Fetched 620 reviews (620 fetched in total)\n",
      "2025-01-26 16:00:32,740 [INFO] Base - [id:1554807824] Fetched 787 reviews (787 fetched in total)\n",
      " 67%|██████▋   | 2/3 [00:55<00:25, 25.49s/it]2025-01-26 16:00:33,559 [INFO] Base - Initialised: AppStore('kr', 'toss', 839333328)\n",
      "2025-01-26 16:00:33,560 [INFO] Base - Ready to fetch reviews from: https://apps.apple.com/kr/app/toss/id839333328\n",
      "2025-01-26 16:00:38,582 [INFO] Base - [id:839333328] Fetched 260 reviews (260 fetched in total)\n",
      "2025-01-26 16:00:44,320 [INFO] Base - [id:839333328] Fetched 500 reviews (500 fetched in total)\n",
      "2025-01-26 16:01:05,506 [ERROR] Base - Something went wrong: HTTPSConnectionPool(host='amp-api.apps.apple.com', port=443): Max retries exceeded with url: /v1/catalog/kr/apps/839333328/reviews?l=en-GB&offset=640&limit=20&platform=web&additionalPlatforms=appletv%2Cipad%2Ciphone%2Cmac (Caused by ResponseError('too many 429 error responses'))\n",
      "2025-01-26 16:01:05,508 [INFO] Base - [id:839333328] Fetched 640 reviews (640 fetched in total)\n",
      "100%|██████████| 3/3 [01:28<00:00, 29.38s/it]"
     ]
    },
    {
     "name": "stdout",
     "output_type": "stream",
     "text": [
      "Done..\n"
     ]
    },
    {
     "name": "stderr",
     "output_type": "stream",
     "text": [
      "\n"
     ]
    }
   ],
   "source": [
    "pay_app = {'kakaopay': 1464496236, 'naverpay': 1554807824, 'toss': 839333328}\n",
    "\n",
    "app_store_reviews = pd.DataFrame()\n",
    "for i in tqdm(pay_app):\n",
    "  pay_reviews = Extract_reviews(i, pay_app[i])\n",
    "  app_store_reviews= pd.concat([app_store_reviews, pay_reviews], axis=0)\n",
    "\n",
    "print('Done..')"
   ]
  },
  {
   "cell_type": "code",
   "execution_count": 21,
   "metadata": {},
   "outputs": [
    {
     "data": {
      "text/html": [
       "<div>\n",
       "<style scoped>\n",
       "    .dataframe tbody tr th:only-of-type {\n",
       "        vertical-align: middle;\n",
       "    }\n",
       "\n",
       "    .dataframe tbody tr th {\n",
       "        vertical-align: top;\n",
       "    }\n",
       "\n",
       "    .dataframe thead th {\n",
       "        text-align: right;\n",
       "    }\n",
       "</style>\n",
       "<table border=\"1\" class=\"dataframe\">\n",
       "  <thead>\n",
       "    <tr style=\"text-align: right;\">\n",
       "      <th></th>\n",
       "      <th>date</th>\n",
       "      <th>developerResponse</th>\n",
       "      <th>review</th>\n",
       "      <th>rating</th>\n",
       "      <th>isEdited</th>\n",
       "      <th>userName</th>\n",
       "      <th>title</th>\n",
       "      <th>pay</th>\n",
       "    </tr>\n",
       "  </thead>\n",
       "  <tbody>\n",
       "    <tr>\n",
       "      <th>0</th>\n",
       "      <td>2025-01-24 20:33:50</td>\n",
       "      <td>NaN</td>\n",
       "      <td>틱 없어진거 실화임? 업뎃 왜 한건지 모르겠고 진짜 구리다 다시 돌려놔라 주식 안하...</td>\n",
       "      <td>1</td>\n",
       "      <td>False</td>\n",
       "      <td>될놈될놈</td>\n",
       "      <td>일을 왜 이렇게함?</td>\n",
       "      <td>kakaopay</td>\n",
       "    </tr>\n",
       "    <tr>\n",
       "      <th>1</th>\n",
       "      <td>2025-01-24 13:10:23</td>\n",
       "      <td>NaN</td>\n",
       "      <td>정보 왜 팔아?</td>\n",
       "      <td>1</td>\n",
       "      <td>False</td>\n",
       "      <td>소녀의세계최고</td>\n",
       "      <td>카톡 뭐하니?</td>\n",
       "      <td>kakaopay</td>\n",
       "    </tr>\n",
       "    <tr>\n",
       "      <th>2</th>\n",
       "      <td>2025-01-24 09:07:11</td>\n",
       "      <td>NaN</td>\n",
       "      <td>4천만명 개인정보 넘긴거 짘짜냐고</td>\n",
       "      <td>1</td>\n",
       "      <td>False</td>\n",
       "      <td>옹ㅇ옹ㅇ옹</td>\n",
       "      <td>고객 개인정보 중국에 넘긴거 진짠가요</td>\n",
       "      <td>kakaopay</td>\n",
       "    </tr>\n",
       "    <tr>\n",
       "      <th>3</th>\n",
       "      <td>2025-01-22 08:50:54</td>\n",
       "      <td>{'id': 39865764, 'body': '안녕하세요, 도후경수님. 카카오페이 ...</td>\n",
       "      <td>아, 업데이트 전으로 해주세요~\\n거래대금, 기관, 외국인수급 다없어졌어요 보는 지...</td>\n",
       "      <td>3</td>\n",
       "      <td>True</td>\n",
       "      <td>도후경수</td>\n",
       "      <td>카카오증권</td>\n",
       "      <td>kakaopay</td>\n",
       "    </tr>\n",
       "    <tr>\n",
       "      <th>4</th>\n",
       "      <td>2025-01-22 04:01:10</td>\n",
       "      <td>NaN</td>\n",
       "      <td>대체 왜 업데이트 한거죠??? 주식하려고 어플쓰는데 차트 왜 이러죠?? 틱이 없는게...</td>\n",
       "      <td>1</td>\n",
       "      <td>False</td>\n",
       "      <td>걸음수</td>\n",
       "      <td>최악</td>\n",
       "      <td>kakaopay</td>\n",
       "    </tr>\n",
       "    <tr>\n",
       "      <th>...</th>\n",
       "      <td>...</td>\n",
       "      <td>...</td>\n",
       "      <td>...</td>\n",
       "      <td>...</td>\n",
       "      <td>...</td>\n",
       "      <td>...</td>\n",
       "      <td>...</td>\n",
       "      <td>...</td>\n",
       "    </tr>\n",
       "    <tr>\n",
       "      <th>635</th>\n",
       "      <td>2017-11-01 13:50:10</td>\n",
       "      <td>NaN</td>\n",
       "      <td>처음에 여기저기 광고 하는거 봤을때는 뭔가 거짓말일 것 같고 이것저것 복잡할 것 같...</td>\n",
       "      <td>5</td>\n",
       "      <td>False</td>\n",
       "      <td>새로운별명이길</td>\n",
       "      <td>확실히 편하네요</td>\n",
       "      <td>toss</td>\n",
       "    </tr>\n",
       "    <tr>\n",
       "      <th>636</th>\n",
       "      <td>2017-10-27 02:29:04</td>\n",
       "      <td>NaN</td>\n",
       "      <td>너무 잘쓰고 있습니당 ㅎㅎ 친구들한테도 추천해주고 다녔어요 너~~~무 편해요 월 5...</td>\n",
       "      <td>5</td>\n",
       "      <td>False</td>\n",
       "      <td>zumdol</td>\n",
       "      <td>토스</td>\n",
       "      <td>toss</td>\n",
       "    </tr>\n",
       "    <tr>\n",
       "      <th>637</th>\n",
       "      <td>2017-10-26 12:58:30</td>\n",
       "      <td>NaN</td>\n",
       "      <td>몇년째 엄청 잘쓰고 있어요!ㅎㅎ 자동으로 한달에 얼마씩 빠져나가게 설정해서 조그만 ...</td>\n",
       "      <td>5</td>\n",
       "      <td>False</td>\n",
       "      <td>탄빵쌤</td>\n",
       "      <td>리뷰남겨본적 한번도 없지만 토스라면!!</td>\n",
       "      <td>toss</td>\n",
       "    </tr>\n",
       "    <tr>\n",
       "      <th>638</th>\n",
       "      <td>2017-10-25 17:46:58</td>\n",
       "      <td>NaN</td>\n",
       "      <td>한창 토스로 송금하면 귀찮다고 이게 뭐냐 하던 때부터 사용했던 사람입니다. 지금은 ...</td>\n",
       "      <td>5</td>\n",
       "      <td>False</td>\n",
       "      <td>냔리</td>\n",
       "      <td>초창기부터 썼던 사용자입니다</td>\n",
       "      <td>toss</td>\n",
       "    </tr>\n",
       "    <tr>\n",
       "      <th>639</th>\n",
       "      <td>2017-10-02 15:26:35</td>\n",
       "      <td>NaN</td>\n",
       "      <td>초반에 우리은행이 권한이 없었을때 토스를 사용하기 위해서 농협으로 갈아탔다. 그정도...</td>\n",
       "      <td>5</td>\n",
       "      <td>False</td>\n",
       "      <td>yyeeyeo</td>\n",
       "      <td>First Toss</td>\n",
       "      <td>toss</td>\n",
       "    </tr>\n",
       "  </tbody>\n",
       "</table>\n",
       "<p>2971 rows × 8 columns</p>\n",
       "</div>"
      ],
      "text/plain": [
       "                   date                                  developerResponse  \\\n",
       "0   2025-01-24 20:33:50                                                NaN   \n",
       "1   2025-01-24 13:10:23                                                NaN   \n",
       "2   2025-01-24 09:07:11                                                NaN   \n",
       "3   2025-01-22 08:50:54  {'id': 39865764, 'body': '안녕하세요, 도후경수님. 카카오페이 ...   \n",
       "4   2025-01-22 04:01:10                                                NaN   \n",
       "..                  ...                                                ...   \n",
       "635 2017-11-01 13:50:10                                                NaN   \n",
       "636 2017-10-27 02:29:04                                                NaN   \n",
       "637 2017-10-26 12:58:30                                                NaN   \n",
       "638 2017-10-25 17:46:58                                                NaN   \n",
       "639 2017-10-02 15:26:35                                                NaN   \n",
       "\n",
       "                                                review  rating  isEdited  \\\n",
       "0    틱 없어진거 실화임? 업뎃 왜 한건지 모르겠고 진짜 구리다 다시 돌려놔라 주식 안하...       1     False   \n",
       "1                                             정보 왜 팔아?       1     False   \n",
       "2                                   4천만명 개인정보 넘긴거 짘짜냐고       1     False   \n",
       "3    아, 업데이트 전으로 해주세요~\\n거래대금, 기관, 외국인수급 다없어졌어요 보는 지...       3      True   \n",
       "4    대체 왜 업데이트 한거죠??? 주식하려고 어플쓰는데 차트 왜 이러죠?? 틱이 없는게...       1     False   \n",
       "..                                                 ...     ...       ...   \n",
       "635  처음에 여기저기 광고 하는거 봤을때는 뭔가 거짓말일 것 같고 이것저것 복잡할 것 같...       5     False   \n",
       "636  너무 잘쓰고 있습니당 ㅎㅎ 친구들한테도 추천해주고 다녔어요 너~~~무 편해요 월 5...       5     False   \n",
       "637  몇년째 엄청 잘쓰고 있어요!ㅎㅎ 자동으로 한달에 얼마씩 빠져나가게 설정해서 조그만 ...       5     False   \n",
       "638  한창 토스로 송금하면 귀찮다고 이게 뭐냐 하던 때부터 사용했던 사람입니다. 지금은 ...       5     False   \n",
       "639  초반에 우리은행이 권한이 없었을때 토스를 사용하기 위해서 농협으로 갈아탔다. 그정도...       5     False   \n",
       "\n",
       "    userName                  title       pay  \n",
       "0       될놈될놈             일을 왜 이렇게함?  kakaopay  \n",
       "1    소녀의세계최고                카톡 뭐하니?  kakaopay  \n",
       "2      옹ㅇ옹ㅇ옹   고객 개인정보 중국에 넘긴거 진짠가요  kakaopay  \n",
       "3       도후경수                  카카오증권  kakaopay  \n",
       "4        걸음수                     최악  kakaopay  \n",
       "..       ...                    ...       ...  \n",
       "635  새로운별명이길               확실히 편하네요      toss  \n",
       "636   zumdol                     토스      toss  \n",
       "637      탄빵쌤  리뷰남겨본적 한번도 없지만 토스라면!!      toss  \n",
       "638       냔리        초창기부터 썼던 사용자입니다      toss  \n",
       "639  yyeeyeo             First Toss      toss  \n",
       "\n",
       "[2971 rows x 8 columns]"
      ]
     },
     "execution_count": 21,
     "metadata": {},
     "output_type": "execute_result"
    }
   ],
   "source": [
    "app_store_reviews"
   ]
  },
  {
   "cell_type": "markdown",
   "metadata": {},
   "source": [
    "# 파일 위치 설정"
   ]
  },
  {
   "cell_type": "code",
   "execution_count": null,
   "metadata": {},
   "outputs": [],
   "source": []
  },
  {
   "cell_type": "code",
   "execution_count": null,
   "metadata": {},
   "outputs": [],
   "source": []
  },
  {
   "cell_type": "code",
   "execution_count": null,
   "metadata": {},
   "outputs": [],
   "source": []
  },
  {
   "cell_type": "code",
   "execution_count": null,
   "metadata": {},
   "outputs": [],
   "source": [
    "# 크롬 드라이버 제어\n",
    "driver = webdriver.Chrome()"
   ]
  }
 ],
 "metadata": {
  "kernelspec": {
   "display_name": "pytorch",
   "language": "python",
   "name": "python3"
  },
  "language_info": {
   "codemirror_mode": {
    "name": "ipython",
    "version": 3
   },
   "file_extension": ".py",
   "mimetype": "text/x-python",
   "name": "python",
   "nbconvert_exporter": "python",
   "pygments_lexer": "ipython3",
   "version": "3.11.9"
  }
 },
 "nbformat": 4,
 "nbformat_minor": 2
}
